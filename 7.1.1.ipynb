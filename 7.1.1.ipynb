{
 "cells": [
  {
   "cell_type": "code",
   "execution_count": 10,
   "metadata": {},
   "outputs": [],
   "source": [
    "from keras import Input, layers\n",
    "\n",
    "input_tensor = Input(shape = (32, )) # 텐서\n",
    "dense = layers.Dense(32, activation = 'relu') # 함수처럼 사용하기 위해 층 객체를 만듭니다\n",
    "\n",
    "output_tensor = dense(input_tensor) # 텐서와 함께 층을 호출하면 텐서를 반환합니다."
   ]
  },
  {
   "cell_type": "code",
   "execution_count": 11,
   "metadata": {},
   "outputs": [
    {
     "name": "stdout",
     "output_type": "stream",
     "text": [
      "Model: \"model_4\"\n",
      "_________________________________________________________________\n",
      "Layer (type)                 Output Shape              Param #   \n",
      "=================================================================\n",
      "input_7 (InputLayer)         (None, 64)                0         \n",
      "_________________________________________________________________\n",
      "dense_25 (Dense)             (None, 32)                2080      \n",
      "_________________________________________________________________\n",
      "dense_26 (Dense)             (None, 32)                1056      \n",
      "_________________________________________________________________\n",
      "dense_27 (Dense)             (None, 10)                330       \n",
      "=================================================================\n",
      "Total params: 3,466\n",
      "Trainable params: 3,466\n",
      "Non-trainable params: 0\n",
      "_________________________________________________________________\n"
     ]
    }
   ],
   "source": [
    "from keras.models import Sequential, Model\n",
    "from keras import layers\n",
    "from keras import Input\n",
    "\n",
    "# Sequential model\n",
    "seq_model = Sequential()\n",
    "seq_model.add(layers.Dense(32, activation='relu', input_shape=(64,)))\n",
    "seq_model.add(layers.Dense(32, activation='relu'))\n",
    "seq_model.add(layers.Dense(10, activation='softmax'))\n",
    "\n",
    "# Functianal API\n",
    "input_tensor = Input(shape=(64,))\n",
    "x = layers.Dense(32, activation='relu')(input_tensor)\n",
    "x = layers.Dense(32, activation='relu')(x)\n",
    "output_tensor = layers.Dense(10, activation='softmax')(x)\n",
    "\n",
    "model = Model(input_tensor, output_tensor)\n",
    "\n",
    "model.summary() # 모델 구조 확인"
   ]
  },
  {
   "cell_type": "code",
   "execution_count": 14,
   "metadata": {},
   "outputs": [
    {
     "name": "stdout",
     "output_type": "stream",
     "text": [
      "Epoch 1/10\n",
      "1000/1000 [==============================] - 0s 97us/step - loss: 142.0395\n",
      "Epoch 2/10\n",
      "1000/1000 [==============================] - 0s 24us/step - loss: 156.3019\n",
      "Epoch 3/10\n",
      "1000/1000 [==============================] - 0s 24us/step - loss: 167.9691\n",
      "Epoch 4/10\n",
      "1000/1000 [==============================] - 0s 23us/step - loss: 180.3342\n",
      "Epoch 5/10\n",
      "1000/1000 [==============================] - 0s 24us/step - loss: 193.2341\n",
      "Epoch 6/10\n",
      "1000/1000 [==============================] - 0s 22us/step - loss: 206.1140\n",
      "Epoch 7/10\n",
      "1000/1000 [==============================] - 0s 21us/step - loss: 220.0277\n",
      "Epoch 8/10\n",
      "1000/1000 [==============================] - 0s 24us/step - loss: 231.7848\n",
      "Epoch 9/10\n",
      "1000/1000 [==============================] - 0s 24us/step - loss: 244.6096\n",
      "Epoch 10/10\n",
      "1000/1000 [==============================] - 0s 23us/step - loss: 256.9019\n",
      "1000/1000 [==============================] - 0s 44us/step\n"
     ]
    }
   ],
   "source": [
    "# 컴파일\n",
    "model.compile(optimizer='rmsprop', loss='categorical_crossentropy')\n",
    "\n",
    "import numpy as np\n",
    "x_train = np.random.random((1000, 64))\n",
    "y_train = np.random.random((1000, 10))\n",
    "\n",
    "# 훈련\n",
    "model.fit(x_train, y_train, epochs=10, batch_size = 128)\n",
    "\n",
    "# 평가\n",
    "score = model.evaluate(x_train, y_train)"
   ]
  },
  {
   "cell_type": "code",
   "execution_count": null,
   "metadata": {},
   "outputs": [],
   "source": []
  }
 ],
 "metadata": {
  "kernelspec": {
   "display_name": "Python 3",
   "language": "python",
   "name": "python3"
  },
  "language_info": {
   "codemirror_mode": {
    "name": "ipython",
    "version": 3
   },
   "file_extension": ".py",
   "mimetype": "text/x-python",
   "name": "python",
   "nbconvert_exporter": "python",
   "pygments_lexer": "ipython3",
   "version": "3.6.9"
  }
 },
 "nbformat": 4,
 "nbformat_minor": 2
}
