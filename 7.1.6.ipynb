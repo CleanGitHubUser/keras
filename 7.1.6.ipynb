{
 "cells": [
  {
   "cell_type": "markdown",
   "metadata": {},
   "source": [
    "모델을 층처럼 사용할 수 있습니다."
   ]
  },
  {
   "cell_type": "code",
   "execution_count": null,
   "metadata": {},
   "outputs": [],
   "source": [
    "from keras import layers\n",
    "from keras import applications\n",
    "from keras import Input\n",
    "\n",
    "xception_base = applications.Xception(weights = None, include_top = False)\n",
    "# 이미지 처리 기본 모델은 엑셉션 네트워크입니다.\n",
    "# (합성곱 기반 층만 사용합니다.)\n",
    "\n",
    "left_input = Input(shape = (250, 250, 3))\n",
    "right_input = Input(shape = (250, 250, 3))\n",
    "# 입력은 250 X 250 RGB 이미지입니다.\n",
    "\n",
    "left_features = xception_base(left_input)\n",
    "right_features = xception_base(right_input)\n",
    "# 같은 비전 모델을 두 번 호출합니다.\n",
    "\n",
    "merged_features = layers.concatenate([left_features, right_features], axis = -1)\n",
    "# 합쳐진 특성은 오른쪽 입력과 왼쪽 입력에서 얻은 정보를 담고 있습니다."
   ]
  }
 ],
 "metadata": {
  "kernelspec": {
   "display_name": "Python 3",
   "language": "python",
   "name": "python3"
  },
  "language_info": {
   "codemirror_mode": {
    "name": "ipython",
    "version": 3
   },
   "file_extension": ".py",
   "mimetype": "text/x-python",
   "name": "python",
   "nbconvert_exporter": "python",
   "pygments_lexer": "ipython3",
   "version": "3.6.9"
  }
 },
 "nbformat": 4,
 "nbformat_minor": 2
}
